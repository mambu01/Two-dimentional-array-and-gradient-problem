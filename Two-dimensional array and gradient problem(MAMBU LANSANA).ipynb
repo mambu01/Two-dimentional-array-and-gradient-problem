{
 "cells": [
  {
   "cell_type": "markdown",
   "metadata": {
    "id": "6rYHbOoK498h"
   },
   "source": [
    "[Problem 1] Linear function"
   ]
  },
  {
   "cell_type": "code",
   "execution_count": 10,
   "metadata": {
    "colab": {
     "base_uri": "https://localhost:8080/"
    },
    "executionInfo": {
     "elapsed": 917,
     "status": "ok",
     "timestamp": 1611828623550,
     "user": {
      "displayName": "Alhaji Fortune",
      "photoUrl": "https://lh3.googleusercontent.com/a-/AOh14GiRAlZlGyDc_Zt44Np56ATuWZ8e4dV8jJpSTrPmcDQ=s64",
      "userId": "01218923895066088452"
     },
     "user_tz": 0
    },
    "id": "KZe8jLe2Seq3",
    "outputId": "5e76c8af-c18a-4987-a617-295368a209f8"
   },
   "outputs": [
    {
     "data": {
      "text/plain": [
       "(array([-50. , -49.9, -49.8, ...,  49.8,  49.9,  50. ]),\n",
       " array([-24.  , -23.95, -23.9 , ...,  25.9 ,  25.95,  26.  ]))"
      ]
     },
     "execution_count": 10,
     "metadata": {
      "tags": []
     },
     "output_type": "execute_result"
    }
   ],
   "source": [
    "import numpy as np\r\n",
    "\r\n",
    "x_ndarray = np.arange(-50, 50.1, 0.1) \r\n",
    "y_ndarray = 0.5*x_ndarray + 1\r\n",
    "x_ndarray, y_ndarray"
   ]
  },
  {
   "cell_type": "markdown",
   "metadata": {
    "id": "52boIsyo5bni"
   },
   "source": [
    "[Problem 2] Array combination"
   ]
  },
  {
   "cell_type": "code",
   "execution_count": 11,
   "metadata": {
    "colab": {
     "base_uri": "https://localhost:8080/"
    },
    "executionInfo": {
     "elapsed": 1018,
     "status": "ok",
     "timestamp": 1611828627469,
     "user": {
      "displayName": "Alhaji Fortune",
      "photoUrl": "https://lh3.googleusercontent.com/a-/AOh14GiRAlZlGyDc_Zt44Np56ATuWZ8e4dV8jJpSTrPmcDQ=s64",
      "userId": "01218923895066088452"
     },
     "user_tz": 0
    },
    "id": "SuGWdGaf5cbr",
    "outputId": "e8609a72-46a9-4d19-e218-94a4f2c3d333"
   },
   "outputs": [
    {
     "data": {
      "text/plain": [
       "((1001, 2), array([[-50.  , -24.  ],\n",
       "        [-49.9 , -23.95],\n",
       "        [-49.8 , -23.9 ],\n",
       "        ...,\n",
       "        [ 49.8 ,  25.9 ],\n",
       "        [ 49.9 ,  25.95],\n",
       "        [ 50.  ,  26.  ]]))"
      ]
     },
     "execution_count": 11,
     "metadata": {
      "tags": []
     },
     "output_type": "execute_result"
    }
   ],
   "source": [
    "xy_ndarray = np.stack((x_ndarray, y_ndarray),-1)\r\n",
    "xy_ndarray.shape, xy_ndarray"
   ]
  },
  {
   "cell_type": "markdown",
   "metadata": {
    "id": "GUwAaCDQ5hl8"
   },
   "source": [
    "[Problem 3] Find the gradient"
   ]
  },
  {
   "cell_type": "code",
   "execution_count": 12,
   "metadata": {
    "colab": {
     "base_uri": "https://localhost:8080/"
    },
    "executionInfo": {
     "elapsed": 1001,
     "status": "ok",
     "timestamp": 1611828632805,
     "user": {
      "displayName": "Alhaji Fortune",
      "photoUrl": "https://lh3.googleusercontent.com/a-/AOh14GiRAlZlGyDc_Zt44Np56ATuWZ8e4dV8jJpSTrPmcDQ=s64",
      "userId": "01218923895066088452"
     },
     "user_tz": 0
    },
    "id": "ExOwqM1M5mYT",
    "outputId": "d4321e08-ca71-4402-966f-5ac566aa292e"
   },
   "outputs": [
    {
     "data": {
      "text/plain": [
       "(1000,)"
      ]
     },
     "execution_count": 12,
     "metadata": {
      "tags": []
     },
     "output_type": "execute_result"
    }
   ],
   "source": [
    "dx = np.diff(x_ndarray)\r\n",
    "dy = np.diff(y_ndarray)\r\n",
    "slope = dy/dx\r\n",
    "slope.shape"
   ]
  },
  {
   "cell_type": "markdown",
   "metadata": {
    "id": "H8MPNvcA5uOD"
   },
   "source": [
    "[Problem 4] Draw a graph"
   ]
  },
  {
   "cell_type": "code",
   "execution_count": 21,
   "metadata": {
    "colab": {
     "base_uri": "https://localhost:8080/",
     "height": 294
    },
    "executionInfo": {
     "elapsed": 899,
     "status": "ok",
     "timestamp": 1611829001848,
     "user": {
      "displayName": "Alhaji Fortune",
      "photoUrl": "https://lh3.googleusercontent.com/a-/AOh14GiRAlZlGyDc_Zt44Np56ATuWZ8e4dV8jJpSTrPmcDQ=s64",
      "userId": "01218923895066088452"
     },
     "user_tz": 0
    },
    "id": "hCA2fnCr5vAc",
    "outputId": "8291e935-47b0-4a8b-f631-9dd16e64fded"
   },
   "outputs": [
    {
     "data": {
      "image/png": "[encoded data removed]",
      "text/plain": [
       "<Figure size 432x288 with 1 Axes>"
      ]
     },
     "metadata": {
      "needs_background": "light",
      "tags": []
     },
     "output_type": "display_data"
    }
   ],
   "source": [
    "import matplotlib.pyplot as plt\r\n",
    "plt.xlabel(\"X\")\r\n",
    "plt.ylabel(\"gradient\")\r\n",
    "plt.title(\"linear function\")\r\n",
    "plt.plot(x_ndarray,y_ndarray, color='orange', linestyle='dotted', linewidth=4, markersize=6)\r\n",
    "plt.plot(x_ndarray[:-1],slope,color='blue')\r\n",
    "plt.show()"
   ]
  },
  {
   "cell_type": "markdown",
   "metadata": {
    "id": "xqvvYnsB51t6"
   },
   "source": [
    "[Problem 5] Python functionalization"
   ]
  },
  {
   "cell_type": "code",
   "execution_count": null,
   "metadata": {
    "id": "EjcNH35352OW"
   },
   "outputs": [],
   "source": [
    "def function1(x):\r\n",
    "    y = 0.5*x + 1\r\n",
    "    return y\r\n",
    "\r\n",
    "def function2(x):\r\n",
    "    y = x**2\r\n",
    "    return y\r\n",
    "\r\n",
    "def function3(x):\r\n",
    "    y = 2*x**2 + 2**x\r\n",
    "    return y\r\n",
    "\r\n",
    "def function4(x):\r\n",
    "    y = np.sin(x**0.5)\r\n",
    "    return y"
   ]
  },
  {
   "cell_type": "code",
   "execution_count": null,
   "metadata": {
    "id": "uwQ0lRmy57QF"
   },
   "outputs": [],
   "source": [
    "def compute_gradient(function,x_range=(-50, 50.1, 0.1)):\r\n",
    "    array_x = np.arange(*x_range)\r\n",
    "    array_y = function(array_x)\r\n",
    "    \r\n",
    "    array_xy = np.stack((array_x, array_y),-1)\r\n",
    "    gradient = np.diff(array_y)/np.diff(array_x)\r\n",
    "    \r\n",
    "    return array_xy, gradient"
   ]
  },
  {
   "cell_type": "code",
   "execution_count": null,
   "metadata": {
    "id": "z0AToW3I5-tu"
   },
   "outputs": [],
   "source": [
    "array_xy1, gradient1 = compute_gradient(function1)\r\n",
    "\r\n",
    "plt.xlabel(\"x\")\r\n",
    "plt.ylabel(\"gradient\")\r\n",
    "plt.title(\"linear function y = 0.5*x + 1\")\r\n",
    "plt.plot(array_xy1[:,0],array_xy1[:,1], color='blue')\r\n",
    "plt.plot(array_xy1[:-1,0],gradient1, color='green',linestyle='dashed', linewidth=2, markersize=6)\r\n",
    "plt.show()"
   ]
  },
  {
   "cell_type": "code",
   "execution_count": null,
   "metadata": {
    "id": "-5QCHMzu6K-4"
   },
   "outputs": [],
   "source": [
    "array_xy2, gradient2 = compute_gradient(function2)\r\n",
    "\r\n",
    "plt.xlabel(\"x\")\r\n",
    "plt.ylabel(\"gradient\")\r\n",
    "plt.title(\"linear function y = x**2\")\r\n",
    "plt.plot(array_xy2[:,0],array_xy2[:,1], color='blue')\r\n",
    "plt.plot(array_xy2[:-1,0],gradient2, color='green',linestyle='dashed', linewidth=2, markersize=6)\r\n",
    "plt.show()"
   ]
  },
  {
   "cell_type": "code",
   "execution_count": null,
   "metadata": {
    "id": "e3JbjiBk6RU-"
   },
   "outputs": [],
   "source": [
    "array_xy3, gradient3 = compute_gradient(function3)\r\n",
    "\r\n",
    "plt.xlabel(\"x\")\r\n",
    "plt.ylabel(\"gradient\")\r\n",
    "plt.title(\"linear function y = 2*x**2 + 2**x\")\r\n",
    "plt.plot(array_xy3[:,0],array_xy3[:,1], color='blue')\r\n",
    "plt.plot(array_xy3[:-1,0],gradient3, color='red', linewidth=2, markersize=6)\r\n",
    "plt.show()"
   ]
  },
  {
   "cell_type": "code",
   "execution_count": null,
   "metadata": {
    "id": "e7GZeoyR6Z1s"
   },
   "outputs": [],
   "source": [
    "array_xy4, gradient4 = compute_gradient(function4,x_range=(0, 50.1, 0.1))\r\n",
    "\r\n",
    "\r\n",
    "plt.xlabel(\"x\")\r\n",
    "plt.ylabel(\"gradient\")\r\n",
    "plt.title(\"linear function y = sin(x**0.5)\")\r\n",
    "plt.plot(array_xy4[:,0],array_xy4[:,1], color='blue')\r\n",
    "plt.plot(array_xy4[:-1,0],gradient4, color='green',linestyle='dashed', linewidth=2, markersize=6)\r\n",
    "plt.show()"
   ]
  },
  {
   "cell_type": "markdown",
   "metadata": {
    "id": "Kk9Rxu3X6k9p"
   },
   "source": [
    "[Problem 6] Find the minimum value"
   ]
  },
  {
   "cell_type": "code",
   "execution_count": null,
   "metadata": {
    "id": "FAcj4cL16lsv"
   },
   "outputs": [],
   "source": [
    "def compute_gradient(function,x_range=(-50, 50.1, 0.1)):\r\n",
    "    array_x = np.arange(*x_range)\r\n",
    "    array_y = function(array_x)\r\n",
    "    min_y_value = np.min(array_y)\r\n",
    "    min_y_arg = np.argmin(array_y)\r\n",
    "    array_xy = np.stack((array_x, array_y),-1)\r\n",
    "    gradient = np.diff(array_y)/np.diff(array_x)\r\n",
    "    \r\n",
    "    return f'The minimum value of y for this function is {min_y_value} and its index is {min_y_arg}'"
   ]
  },
  {
   "cell_type": "code",
   "execution_count": null,
   "metadata": {
    "id": "dk3gKZrd6uT9"
   },
   "outputs": [],
   "source": [
    "compute_gradient(function1"
   ]
  },
  {
   "cell_type": "code",
   "execution_count": null,
   "metadata": {
    "id": "hLrQZ3IN6w-Z"
   },
   "outputs": [],
   "source": [
    "compute_gradient(function2)"
   ]
  },
  {
   "cell_type": "code",
   "execution_count": null,
   "metadata": {
    "id": "NAbJePAi6ztB"
   },
   "outputs": [],
   "source": [
    "compute_gradient(function3)"
   ]
  },
  {
   "cell_type": "code",
   "execution_count": null,
   "metadata": {
    "id": "ESSwCXI_62zw"
   },
   "outputs": [],
   "source": [
    "compute_gradient(function4, x_range=(0, 50.1, 0.1))"
   ]
  }
 ],
 "metadata": {
  "colab": {
   "authorship_tag": "ABX9TyOJyEDp4BlYxq+pQqRd2Xv+",
   "collapsed_sections": [],
   "name": "Week2.4_Two-dimensional array and gradient problem.ipynb",
   "provenance": []
  },
  "kernelspec": {
   "display_name": "Python 3",
   "name": "python3"
  }
 },
 "nbformat": 4,
 "nbformat_minor": 0
}
